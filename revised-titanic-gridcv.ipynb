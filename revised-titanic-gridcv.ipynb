{
 "cells": [
  {
   "cell_type": "code",
   "execution_count": 1,
   "id": "4824c73e",
   "metadata": {
    "_cell_guid": "b1076dfc-b9ad-4769-8c92-a6c4dae69d19",
    "_uuid": "8f2839f25d086af736a60e9eeb907d3b93b6e0e5",
    "execution": {
     "iopub.execute_input": "2024-06-05T17:35:32.785944Z",
     "iopub.status.busy": "2024-06-05T17:35:32.785436Z",
     "iopub.status.idle": "2024-06-05T17:35:32.798690Z",
     "shell.execute_reply": "2024-06-05T17:35:32.797456Z"
    },
    "papermill": {
     "duration": 0.021359,
     "end_time": "2024-06-05T17:35:32.800989",
     "exception": false,
     "start_time": "2024-06-05T17:35:32.779630",
     "status": "completed"
    },
    "tags": []
   },
   "outputs": [
    {
     "name": "stdout",
     "output_type": "stream",
     "text": [
      "/kaggle/input/titanic/train.csv\n",
      "/kaggle/input/titanic/test.csv\n",
      "/kaggle/input/titanic/gender_submission.csv\n"
     ]
    }
   ],
   "source": [
    "import os\n",
    "for dirname, _, filenames in os.walk('/kaggle/input'):\n",
    "    for filename in filenames:\n",
    "        print(os.path.join(dirname, filename))\n",
    "\n"
   ]
  },
  {
   "cell_type": "code",
   "execution_count": 2,
   "id": "ccb5afab",
   "metadata": {
    "execution": {
     "iopub.execute_input": "2024-06-05T17:35:32.810245Z",
     "iopub.status.busy": "2024-06-05T17:35:32.809880Z",
     "iopub.status.idle": "2024-06-05T17:35:35.013897Z",
     "shell.execute_reply": "2024-06-05T17:35:35.012913Z"
    },
    "papermill": {
     "duration": 2.211303,
     "end_time": "2024-06-05T17:35:35.016403",
     "exception": false,
     "start_time": "2024-06-05T17:35:32.805100",
     "status": "completed"
    },
    "tags": []
   },
   "outputs": [],
   "source": [
    "import pandas as pd\n",
    "from sklearn.ensemble import RandomForestClassifier\n",
    "from sklearn.model_selection import train_test_split, GridSearchCV\n",
    "from sklearn.preprocessing import StandardScaler, OneHotEncoder\n",
    "from sklearn.impute import SimpleImputer\n",
    "from sklearn.pipeline import Pipeline\n",
    "from sklearn.compose import ColumnTransformer"
   ]
  },
  {
   "cell_type": "code",
   "execution_count": 3,
   "id": "64817b09",
   "metadata": {
    "execution": {
     "iopub.execute_input": "2024-06-05T17:35:35.025449Z",
     "iopub.status.busy": "2024-06-05T17:35:35.024955Z",
     "iopub.status.idle": "2024-06-05T17:35:35.045417Z",
     "shell.execute_reply": "2024-06-05T17:35:35.044576Z"
    },
    "papermill": {
     "duration": 0.027426,
     "end_time": "2024-06-05T17:35:35.047693",
     "exception": false,
     "start_time": "2024-06-05T17:35:35.020267",
     "status": "completed"
    },
    "tags": []
   },
   "outputs": [],
   "source": [
    "# Load the training data\n",
    "train_data = pd.read_csv('/kaggle/input/titanic/train.csv')"
   ]
  },
  {
   "cell_type": "code",
   "execution_count": 4,
   "id": "6281dc3a",
   "metadata": {
    "execution": {
     "iopub.execute_input": "2024-06-05T17:35:35.056415Z",
     "iopub.status.busy": "2024-06-05T17:35:35.056032Z",
     "iopub.status.idle": "2024-06-05T17:35:35.062997Z",
     "shell.execute_reply": "2024-06-05T17:35:35.062075Z"
    },
    "papermill": {
     "duration": 0.013719,
     "end_time": "2024-06-05T17:35:35.065124",
     "exception": false,
     "start_time": "2024-06-05T17:35:35.051405",
     "status": "completed"
    },
    "tags": []
   },
   "outputs": [],
   "source": [
    "# Feature engineering\n",
    "def feature_engineering(data):\n",
    "    data['Title'] = data['Name'].str.extract(' ([A-Za-z]+)\\.', expand=False)\n",
    "    data['Cabin'] = data['Cabin'].str[0]\n",
    "    data['FamilySize'] = data['SibSp'] + data['Parch'] + 1\n",
    "    data['IsAlone'] = (data['FamilySize'] == 1).astype(int)\n",
    "    data['AgeBin'] = pd.cut(data['Age'], bins=[0, 12, 20, 40, 60, 80], labels=['Child', 'Teenager', 'Adult', 'MiddleAge', 'Senior'])\n",
    "    data['FareBin'] = pd.cut(data['Fare'], bins=[0, 7.91, 14.454, 31, 512], labels=['Low', 'Medium', 'High', 'VeryHigh'])\n",
    "    return data"
   ]
  },
  {
   "cell_type": "code",
   "execution_count": 5,
   "id": "f543f2f4",
   "metadata": {
    "execution": {
     "iopub.execute_input": "2024-06-05T17:35:35.074007Z",
     "iopub.status.busy": "2024-06-05T17:35:35.073713Z",
     "iopub.status.idle": "2024-06-05T17:35:35.099117Z",
     "shell.execute_reply": "2024-06-05T17:35:35.098231Z"
    },
    "papermill": {
     "duration": 0.032321,
     "end_time": "2024-06-05T17:35:35.101508",
     "exception": false,
     "start_time": "2024-06-05T17:35:35.069187",
     "status": "completed"
    },
    "tags": []
   },
   "outputs": [],
   "source": [
    "train_data = feature_engineering(train_data)"
   ]
  },
  {
   "cell_type": "code",
   "execution_count": 6,
   "id": "031b09d3",
   "metadata": {
    "execution": {
     "iopub.execute_input": "2024-06-05T17:35:35.110021Z",
     "iopub.status.busy": "2024-06-05T17:35:35.109700Z",
     "iopub.status.idle": "2024-06-05T17:35:35.116219Z",
     "shell.execute_reply": "2024-06-05T17:35:35.115277Z"
    },
    "papermill": {
     "duration": 0.013305,
     "end_time": "2024-06-05T17:35:35.118447",
     "exception": false,
     "start_time": "2024-06-05T17:35:35.105142",
     "status": "completed"
    },
    "tags": []
   },
   "outputs": [],
   "source": [
    "# Define numerical and categorical features\n",
    "numerical_features = ['Age', 'Fare']\n",
    "categorical_features = ['Pclass', 'Sex', 'SibSp', 'Parch', 'Embarked', 'Title', 'Cabin', 'FamilySize', 'IsAlone', 'AgeBin', 'FareBin']\n",
    "\n",
    "# Create transformers for numerical and categorical features\n",
    "numerical_transformer = Pipeline(steps=[\n",
    "    ('imputer', SimpleImputer(strategy='median')),\n",
    "    ('scaler', StandardScaler())])\n",
    "\n",
    "categorical_transformer = Pipeline(steps=[\n",
    "    ('imputer', SimpleImputer(strategy='most_frequent')),\n",
    "    ('encoder', OneHotEncoder(handle_unknown='ignore'))])\n",
    "\n",
    "# Combine transformers into a preprocessor\n",
    "preprocessor = ColumnTransformer(\n",
    "    transformers=[\n",
    "        ('num', numerical_transformer, numerical_features),\n",
    "        ('cat', categorical_transformer, categorical_features)])"
   ]
  },
  {
   "cell_type": "code",
   "execution_count": 7,
   "id": "b88d4b6e",
   "metadata": {
    "execution": {
     "iopub.execute_input": "2024-06-05T17:35:35.127228Z",
     "iopub.status.busy": "2024-06-05T17:35:35.126853Z",
     "iopub.status.idle": "2024-06-05T17:35:35.132241Z",
     "shell.execute_reply": "2024-06-05T17:35:35.131275Z"
    },
    "papermill": {
     "duration": 0.012202,
     "end_time": "2024-06-05T17:35:35.134288",
     "exception": false,
     "start_time": "2024-06-05T17:35:35.122086",
     "status": "completed"
    },
    "tags": []
   },
   "outputs": [],
   "source": [
    "# Define the model\n",
    "model = RandomForestClassifier()\n",
    "\n",
    "# Create a pipeline\n",
    "clf = Pipeline(steps=[('preprocessor', preprocessor),\n",
    "                      ('classifier', model)])"
   ]
  },
  {
   "cell_type": "code",
   "execution_count": 8,
   "id": "197fa3b3",
   "metadata": {
    "execution": {
     "iopub.execute_input": "2024-06-05T17:35:35.143695Z",
     "iopub.status.busy": "2024-06-05T17:35:35.142924Z",
     "iopub.status.idle": "2024-06-05T17:35:35.157622Z",
     "shell.execute_reply": "2024-06-05T17:35:35.156717Z"
    },
    "papermill": {
     "duration": 0.021852,
     "end_time": "2024-06-05T17:35:35.159782",
     "exception": false,
     "start_time": "2024-06-05T17:35:35.137930",
     "status": "completed"
    },
    "tags": []
   },
   "outputs": [],
   "source": [
    "# Split the data\n",
    "X = train_data.drop(['Survived', 'Name', 'Ticket', 'PassengerId'], axis=1)\n",
    "y = train_data['Survived']\n",
    "\n",
    "X_train, X_valid, y_train, y_valid = train_test_split(X, y, test_size=0.2, random_state=42)"
   ]
  },
  {
   "cell_type": "code",
   "execution_count": 9,
   "id": "f4844283",
   "metadata": {
    "execution": {
     "iopub.execute_input": "2024-06-05T17:35:35.168967Z",
     "iopub.status.busy": "2024-06-05T17:35:35.168215Z",
     "iopub.status.idle": "2024-06-05T17:35:35.173440Z",
     "shell.execute_reply": "2024-06-05T17:35:35.172464Z"
    },
    "papermill": {
     "duration": 0.011937,
     "end_time": "2024-06-05T17:35:35.175454",
     "exception": false,
     "start_time": "2024-06-05T17:35:35.163517",
     "status": "completed"
    },
    "tags": []
   },
   "outputs": [],
   "source": [
    "# Define a parameter grid for RandomForestClassifier\n",
    "param_grid = {\n",
    "    'classifier__n_estimators': [100, 150],\n",
    "    'classifier__max_depth': [None, 10],\n",
    "    'classifier__min_samples_split': [2, 5],\n",
    "    'classifier__min_samples_leaf': [1, 2]\n",
    "}"
   ]
  },
  {
   "cell_type": "code",
   "execution_count": 10,
   "id": "b6b56a5c",
   "metadata": {
    "execution": {
     "iopub.execute_input": "2024-06-05T17:35:35.185368Z",
     "iopub.status.busy": "2024-06-05T17:35:35.184543Z",
     "iopub.status.idle": "2024-06-05T17:35:48.270278Z",
     "shell.execute_reply": "2024-06-05T17:35:48.269013Z"
    },
    "papermill": {
     "duration": 13.093479,
     "end_time": "2024-06-05T17:35:48.273035",
     "exception": false,
     "start_time": "2024-06-05T17:35:35.179556",
     "status": "completed"
    },
    "tags": []
   },
   "outputs": [
    {
     "name": "stdout",
     "output_type": "stream",
     "text": [
      "Best Parameters: {'classifier__max_depth': 10, 'classifier__min_samples_leaf': 1, 'classifier__min_samples_split': 5, 'classifier__n_estimators': 100}\n",
      "Best Score: 0.832837584950261\n"
     ]
    }
   ],
   "source": [
    "# Create a GridSearchCV object\n",
    "grid_search = GridSearchCV(estimator=clf, param_grid=param_grid, cv=5, n_jobs=-1, scoring='accuracy')\n",
    "\n",
    "# Fit the grid search to the data\n",
    "grid_search.fit(X_train, y_train)\n",
    "\n",
    "# Get the best parameters and the best score\n",
    "best_params = grid_search.best_params_\n",
    "best_score = grid_search.best_score_\n",
    "\n",
    "print(\"Best Parameters:\", best_params)\n",
    "print(\"Best Score:\", best_score)"
   ]
  },
  {
   "cell_type": "code",
   "execution_count": 11,
   "id": "c6fdda5b",
   "metadata": {
    "execution": {
     "iopub.execute_input": "2024-06-05T17:35:48.282393Z",
     "iopub.status.busy": "2024-06-05T17:35:48.282021Z",
     "iopub.status.idle": "2024-06-05T17:35:48.308125Z",
     "shell.execute_reply": "2024-06-05T17:35:48.307094Z"
    },
    "papermill": {
     "duration": 0.033515,
     "end_time": "2024-06-05T17:35:48.310427",
     "exception": false,
     "start_time": "2024-06-05T17:35:48.276912",
     "status": "completed"
    },
    "tags": []
   },
   "outputs": [
    {
     "name": "stdout",
     "output_type": "stream",
     "text": [
      "Validation Set Accuracy: 0.8212290502793296\n"
     ]
    }
   ],
   "source": [
    "# Evaluate the best model on the validation set\n",
    "best_model = grid_search.best_estimator_\n",
    "validation_accuracy = best_model.score(X_valid, y_valid)\n",
    "print(\"Validation Set Accuracy:\", validation_accuracy)"
   ]
  },
  {
   "cell_type": "code",
   "execution_count": 12,
   "id": "d1056865",
   "metadata": {
    "execution": {
     "iopub.execute_input": "2024-06-05T17:35:48.320251Z",
     "iopub.status.busy": "2024-06-05T17:35:48.319895Z",
     "iopub.status.idle": "2024-06-05T17:35:48.362835Z",
     "shell.execute_reply": "2024-06-05T17:35:48.361868Z"
    },
    "papermill": {
     "duration": 0.05086,
     "end_time": "2024-06-05T17:35:48.365457",
     "exception": false,
     "start_time": "2024-06-05T17:35:48.314597",
     "status": "completed"
    },
    "tags": []
   },
   "outputs": [],
   "source": [
    "# Load and preprocess the test data\n",
    "test_data = pd.read_csv('/kaggle/input/titanic/test.csv')\n",
    "test_data = feature_engineering(test_data)\n",
    "\n",
    "# Make predictions on the test data\n",
    "X_test = test_data.drop(['Name', 'Ticket', 'PassengerId'], axis=1)\n",
    "predictions = best_model.predict(X_test)"
   ]
  },
  {
   "cell_type": "code",
   "execution_count": 13,
   "id": "c9afd11f",
   "metadata": {
    "execution": {
     "iopub.execute_input": "2024-06-05T17:35:48.374878Z",
     "iopub.status.busy": "2024-06-05T17:35:48.374530Z",
     "iopub.status.idle": "2024-06-05T17:35:48.383560Z",
     "shell.execute_reply": "2024-06-05T17:35:48.382676Z"
    },
    "papermill": {
     "duration": 0.01634,
     "end_time": "2024-06-05T17:35:48.385872",
     "exception": false,
     "start_time": "2024-06-05T17:35:48.369532",
     "status": "completed"
    },
    "tags": []
   },
   "outputs": [],
   "source": [
    "# Create a submission DataFrame\n",
    "submission = pd.DataFrame({\n",
    "    'PassengerId': test_data['PassengerId'],\n",
    "    'Survived': predictions\n",
    "})\n",
    "\n",
    "# Save the submission to a CSV file\n",
    "submission.to_csv('submission.csv', index=False)"
   ]
  }
 ],
 "metadata": {
  "kaggle": {
   "accelerator": "none",
   "dataSources": [
    {
     "databundleVersionId": 26502,
     "sourceId": 3136,
     "sourceType": "competition"
    }
   ],
   "dockerImageVersionId": 30732,
   "isGpuEnabled": false,
   "isInternetEnabled": true,
   "language": "python",
   "sourceType": "notebook"
  },
  "kernelspec": {
   "display_name": "Python 3",
   "language": "python",
   "name": "python3"
  },
  "language_info": {
   "codemirror_mode": {
    "name": "ipython",
    "version": 3
   },
   "file_extension": ".py",
   "mimetype": "text/x-python",
   "name": "python",
   "nbconvert_exporter": "python",
   "pygments_lexer": "ipython3",
   "version": "3.10.13"
  },
  "papermill": {
   "default_parameters": {},
   "duration": 20.832249,
   "end_time": "2024-06-05T17:35:51.011249",
   "environment_variables": {},
   "exception": null,
   "input_path": "__notebook__.ipynb",
   "output_path": "__notebook__.ipynb",
   "parameters": {},
   "start_time": "2024-06-05T17:35:30.179000",
   "version": "2.5.0"
  }
 },
 "nbformat": 4,
 "nbformat_minor": 5
}
